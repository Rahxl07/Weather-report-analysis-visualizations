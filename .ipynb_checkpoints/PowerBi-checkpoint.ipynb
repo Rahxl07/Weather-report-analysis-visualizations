{
 "cells": [
  {
   "cell_type": "markdown",
   "id": "cd23eb31-4c83-4fa7-a076-d51ba493adf2",
   "metadata": {},
   "source": [
    "#### connectivity options in powerbi"
   ]
  },
  {
   "cell_type": "markdown",
   "id": "b8940d2c-241e-4c88-9ebb-c9c9d967dc9d",
   "metadata": {},
   "source": [
    "* Import mode\n",
    "* Direct Query mode\n",
    "* live connections"
   ]
  },
  {
   "cell_type": "markdown",
   "id": "91c12b86-26d0-4c90-bd67-412950600606",
   "metadata": {},
   "source": [
    "server --> Database --> table --> column--> Data"
   ]
  },
  {
   "cell_type": "markdown",
   "id": "bbb34258-1981-400f-bfb9-9c0879c65964",
   "metadata": {},
   "source": [
    "* import mode basically work on the data where in limited size and mainly its in storage limited. transfers all the data into powerbi. changes will effected in source data also\n",
    "* Direct query works on real time analysis and large data sets\n",
    "* live connections works on enterprise level where the data works on complex calculations and aggregations.,"
   ]
  },
  {
   "cell_type": "code",
   "execution_count": null,
   "id": "1318e420-7998-4e56-a3f1-40ec8b6e58a2",
   "metadata": {},
   "outputs": [],
   "source": []
  }
 ],
 "metadata": {
  "kernelspec": {
   "display_name": "Python 3 (ipykernel)",
   "language": "python",
   "name": "python3"
  },
  "language_info": {
   "codemirror_mode": {
    "name": "ipython",
    "version": 3
   },
   "file_extension": ".py",
   "mimetype": "text/x-python",
   "name": "python",
   "nbconvert_exporter": "python",
   "pygments_lexer": "ipython3",
   "version": "3.11.7"
  }
 },
 "nbformat": 4,
 "nbformat_minor": 5
}
